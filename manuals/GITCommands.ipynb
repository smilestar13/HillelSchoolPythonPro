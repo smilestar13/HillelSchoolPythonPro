{
 "metadata": {
  "language_info": {
   "name": ""
  },
  "kernelspec": {
   "name": "python",
   "display_name": "Python (Pyodide)",
   "language": "python"
  }
 },
 "nbformat_minor": 4,
 "nbformat": 4,
 "cells": [
  {
   "cell_type": "markdown",
   "source": [
    "* `git clone` - клонировать удаленный репозиторий\n",
    "* `git status` - статус отслеживания файлов гитом\n",
    "* `git add --all` - добавить все изменения в гит\n",
    "* `git commit -m` “commit message” - коммит изменений с описанием\n",
    "* `git push origin branch_name` - добавление изменений с локального репозитория на удаленный\n",
    "* `git pull origin branch_name` - стягивание изменений с удаленного репозитория в локальный\n",
    "* `git fetch origin branch_name` - стянуть конкретную ветку с удаленного репозитория на локалку\n",
    "* `git checkout` / `git checkout -b branch_name` - переключение между ветками, флаг -b создаст новую ветку (если такой ранее не было) \n",
    "* `git branch` - выводит список веток\n",
    "* `git merge branch_name` - выполнит мердж указанной ветки в текущую\n",
    "* `git branch -m branch_name` - переименование текущей ветки, где branch_name новое имя\n",
    "* `git branch -d` /` -D branch_name` - удаляет локальную ветку\n",
    "* `git rm path` / `file_name` - удалить фаил из гит"
   ],
   "metadata": {}
  }
 ]
}
